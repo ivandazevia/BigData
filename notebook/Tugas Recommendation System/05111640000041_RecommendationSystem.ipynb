{
 "cells": [
  {
   "cell_type": "markdown",
   "metadata": {},
   "source": [
    "## Spark Initialization "
   ]
  },
  {
   "cell_type": "code",
   "execution_count": 1,
   "metadata": {},
   "outputs": [],
   "source": [
    "# Import findspark to read SPARK_HOME and HADOOP_HOME\n",
    "import findspark\n",
    "findspark.init()"
   ]
  },
  {
   "cell_type": "code",
   "execution_count": 2,
   "metadata": {},
   "outputs": [],
   "source": [
    "# Import required library\n",
    "from pyspark.sql import SparkSession\n",
    "\n",
    "# Create Spark Session\n",
    "spark = SparkSession \\\n",
    "    .builder \\\n",
    "    .appName(\"Recommendation System\") \\\n",
    "    .getOrCreate()"
   ]
  },
  {
   "cell_type": "code",
   "execution_count": 3,
   "metadata": {},
   "outputs": [
    {
     "name": "stdout",
     "output_type": "stream",
     "text": [
      "<pyspark.sql.session.SparkSession object at 0x000001E3D78EA7B8>\n"
     ]
    }
   ],
   "source": [
    "# Print Spark object ID\n",
    "print(spark)"
   ]
  },
  {
   "cell_type": "code",
   "execution_count": 4,
   "metadata": {},
   "outputs": [],
   "source": [
    "from pyspark.ml.evaluation import RegressionEvaluator\n",
    "from pyspark.ml.recommendation import ALS\n",
    "from pyspark.sql import Row\n",
    "from pyspark.sql import types"
   ]
  },
  {
   "cell_type": "markdown",
   "metadata": {},
   "source": [
    "## Praproses"
   ]
  },
  {
   "cell_type": "code",
   "execution_count": 8,
   "metadata": {},
   "outputs": [],
   "source": [
    "lines = spark.read.csv(\"F:/Semester 6/BigData/Tugas Recommendation System/ml-10M100K/ratings.csv\", header=True, inferSchema=True)"
   ]
  },
  {
   "cell_type": "code",
   "execution_count": 9,
   "metadata": {},
   "outputs": [
    {
     "name": "stdout",
     "output_type": "stream",
     "text": [
      "+------+-------+------+----------+\n",
      "|userId|movieId|rating|timestamps|\n",
      "+------+-------+------+----------+\n",
      "|     1|    122|   5.0| 838985046|\n",
      "|     1|    185|   5.0| 838983525|\n",
      "|     1|    231|   5.0| 838983392|\n",
      "|     1|    292|   5.0| 838983421|\n",
      "|     1|    316|   5.0| 838983392|\n",
      "|     1|    329|   5.0| 838983392|\n",
      "|     1|    355|   5.0| 838984474|\n",
      "|     1|    356|   5.0| 838983653|\n",
      "|     1|    362|   5.0| 838984885|\n",
      "|     1|    364|   5.0| 838983707|\n",
      "|     1|    370|   5.0| 838984596|\n",
      "|     1|    377|   5.0| 838983834|\n",
      "|     1|    420|   5.0| 838983834|\n",
      "|     1|    466|   5.0| 838984679|\n",
      "|     1|    480|   5.0| 838983653|\n",
      "|     1|    520|   5.0| 838984679|\n",
      "|     1|    539|   5.0| 838984068|\n",
      "|     1|    586|   5.0| 838984068|\n",
      "|     1|    588|   5.0| 838983339|\n",
      "|     1|    589|   5.0| 838983778|\n",
      "+------+-------+------+----------+\n",
      "only showing top 20 rows\n",
      "\n"
     ]
    }
   ],
   "source": [
    "lines = lines.withColumn(\"userId\", lines[\"userId\"].cast(\"int\"))\n",
    "lines = lines.withColumn(\"movieId\", lines[\"movieId\"].cast(\"int\"))\n",
    "lines = lines.withColumn(\"rating\", lines[\"rating\"].cast(\"float\"))\n",
    "\n",
    "lines.show()"
   ]
  },
  {
   "cell_type": "markdown",
   "metadata": {},
   "source": [
    "## Create Model"
   ]
  },
  {
   "cell_type": "code",
   "execution_count": 11,
   "metadata": {},
   "outputs": [],
   "source": [
    "(training, test) = lines.randomSplit([0.8, 0.2])"
   ]
  },
  {
   "cell_type": "code",
   "execution_count": 12,
   "metadata": {},
   "outputs": [],
   "source": [
    "# Build the recommendation model using ALS on the training data\n",
    "# Note we set cold start strategy to 'drop' to ensure we don't get NaN evaluation metrics\n",
    "als = ALS(maxIter=5, regParam=0.01, userCol=\"userId\", itemCol=\"movieId\", ratingCol=\"rating\",\n",
    "          coldStartStrategy=\"drop\")\n",
    "model = als.fit(training)"
   ]
  },
  {
   "cell_type": "code",
   "execution_count": 13,
   "metadata": {},
   "outputs": [
    {
     "name": "stdout",
     "output_type": "stream",
     "text": [
      "Root-mean-square error = 0.8217652411054485\n"
     ]
    }
   ],
   "source": [
    "# Evaluate the model by computing the RMSE on the test data\n",
    "predictions = model.transform(test)\n",
    "evaluator = RegressionEvaluator(metricName=\"rmse\", labelCol=\"rating\",\n",
    "                                predictionCol=\"prediction\")\n",
    "rmse = evaluator.evaluate(predictions)\n",
    "print(\"Root-mean-square error = \" + str(rmse))"
   ]
  },
  {
   "cell_type": "code",
   "execution_count": 14,
   "metadata": {},
   "outputs": [],
   "source": [
    "# Generate top 10 movie recommendations for each user\n",
    "userRecs = model.recommendForAllUsers(10)\n",
    "# Generate top 10 user recommendations for each movie\n",
    "movieRecs = model.recommendForAllItems(10)"
   ]
  },
  {
   "cell_type": "code",
   "execution_count": 15,
   "metadata": {},
   "outputs": [
    {
     "name": "stdout",
     "output_type": "stream",
     "text": [
      "+------+--------------------+\n",
      "|userId|     recommendations|\n",
      "+------+--------------------+\n",
      "|   148|[[8660, 7.8393764...|\n",
      "|   463|[[8682, 7.3974705...|\n",
      "|   471|[[32444, 15.41407...|\n",
      "|   496|[[32444, 11.85937...|\n",
      "|   833|[[26326, 7.766531...|\n",
      "|  1088|[[26326, 7.767759...|\n",
      "|  1238|[[33264, 6.582766...|\n",
      "|  1342|[[26326, 9.452552...|\n",
      "|  1580|[[26326, 10.80178...|\n",
      "|  1591|[[36545, 18.76777...|\n",
      "|  1645|[[60654, 7.470299...|\n",
      "|  1829|[[7411, 12.046809...|\n",
      "|  1959|[[2343, 10.261526...|\n",
      "|  2122|[[26326, 6.42405]...|\n",
      "|  2142|[[52413, 7.428848...|\n",
      "|  2366|[[26241, 10.38987...|\n",
      "|  2659|[[52413, 9.54597]...|\n",
      "|  2866|[[5778, 12.574363...|\n",
      "|  3175|[[4379, 10.918962...|\n",
      "|  3749|[[26326, 7.555282...|\n",
      "+------+--------------------+\n",
      "only showing top 20 rows\n",
      "\n"
     ]
    }
   ],
   "source": [
    "userRecs.show()"
   ]
  },
  {
   "cell_type": "code",
   "execution_count": 16,
   "metadata": {},
   "outputs": [
    {
     "name": "stdout",
     "output_type": "stream",
     "text": [
      "+-------+--------------------+\n",
      "|movieId|     recommendations|\n",
      "+-------+--------------------+\n",
      "|   1580|[[30451, 5.769893...|\n",
      "|   4900|[[13639, 7.525706...|\n",
      "|   5300|[[56506, 8.086524...|\n",
      "|   6620|[[58487, 5.906659...|\n",
      "|   7240|[[10459, 7.862756...|\n",
      "|   7340|[[21652, 6.777546...|\n",
      "|   7880|[[8552, 10.787275...|\n",
      "|  30970|[[48987, 15.29576...|\n",
      "|  32460|[[64282, 11.08503...|\n",
      "|  54190|[[13639, 9.541878...|\n",
      "|  57370|[[22236, 15.02211...|\n",
      "|    471|[[6454, 6.4372754...|\n",
      "|   1591|[[62350, 6.254569...|\n",
      "|   4101|[[22236, 15.56514...|\n",
      "|  63271|[[35184, 3.099855...|\n",
      "|   1342|[[29910, 7.364708...|\n",
      "|   2122|[[36629, 8.484212...|\n",
      "|   2142|[[2671, 5.953084]...|\n",
      "|   7982|[[9506, 8.291946]...|\n",
      "|   8592|[[57354, 6.939225...|\n",
      "+-------+--------------------+\n",
      "only showing top 20 rows\n",
      "\n"
     ]
    }
   ],
   "source": [
    "movieRecs.show()"
   ]
  },
  {
   "cell_type": "code",
   "execution_count": null,
   "metadata": {},
   "outputs": [],
   "source": []
  }
 ],
 "metadata": {
  "kernelspec": {
   "display_name": "Python 3",
   "language": "python",
   "name": "python3"
  },
  "language_info": {
   "codemirror_mode": {
    "name": "ipython",
    "version": 3
   },
   "file_extension": ".py",
   "mimetype": "text/x-python",
   "name": "python",
   "nbconvert_exporter": "python",
   "pygments_lexer": "ipython3",
   "version": "3.6.4"
  }
 },
 "nbformat": 4,
 "nbformat_minor": 2
}
