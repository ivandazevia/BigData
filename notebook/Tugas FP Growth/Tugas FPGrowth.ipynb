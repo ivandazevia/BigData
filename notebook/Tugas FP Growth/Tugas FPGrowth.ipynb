{
 "cells": [
  {
   "cell_type": "markdown",
   "metadata": {},
   "source": [
    "# Spark Inizialitation"
   ]
  },
  {
   "cell_type": "code",
   "execution_count": 1,
   "metadata": {},
   "outputs": [],
   "source": [
    "# Import findspark to read SPARK_HOME and HADOOP_HOME\n",
    "import findspark\n",
    "findspark.init()"
   ]
  },
  {
   "cell_type": "code",
   "execution_count": 2,
   "metadata": {},
   "outputs": [],
   "source": [
    "# Import required library\n",
    "from pyspark.sql import SparkSession\n",
    "\n",
    "# Create Spark Session\n",
    "spark = SparkSession \\\n",
    "    .builder \\\n",
    "    .appName(\"Tugas FP Growth\") \\\n",
    "    .getOrCreate()"
   ]
  },
  {
   "cell_type": "code",
   "execution_count": 3,
   "metadata": {},
   "outputs": [
    {
     "name": "stdout",
     "output_type": "stream",
     "text": [
      "<pyspark.sql.session.SparkSession object at 0x0000029F41829780>\n"
     ]
    }
   ],
   "source": [
    "# Print Spark object ID\n",
    "print(spark)"
   ]
  },
  {
   "cell_type": "markdown",
   "metadata": {},
   "source": [
    "# Loading Dataset"
   ]
  },
  {
   "cell_type": "code",
   "execution_count": 5,
   "metadata": {},
   "outputs": [],
   "source": [
    "#E-Commerce Data from https://www.kaggle.com/carrie1/ecommerce-data\n",
    "\n",
    "df = spark.read.csv(\"F:/Semester 6/BigData/Tugas FPGrowth/data.csv\", header=True, inferSchema=True)"
   ]
  },
  {
   "cell_type": "code",
   "execution_count": 6,
   "metadata": {},
   "outputs": [
    {
     "name": "stdout",
     "output_type": "stream",
     "text": [
      "+---------+---------+--------------------+--------+--------------+---------+----------+--------------+\n",
      "|InvoiceNo|StockCode|         Description|Quantity|   InvoiceDate|UnitPrice|CustomerID|       Country|\n",
      "+---------+---------+--------------------+--------+--------------+---------+----------+--------------+\n",
      "|   536365|   85123A|WHITE HANGING HEA...|       6|12/1/2010 8:26|     2.55|     17850|United Kingdom|\n",
      "|   536365|    71053| WHITE METAL LANTERN|       6|12/1/2010 8:26|     3.39|     17850|United Kingdom|\n",
      "|   536365|   84406B|CREAM CUPID HEART...|       8|12/1/2010 8:26|     2.75|     17850|United Kingdom|\n",
      "|   536365|   84029G|KNITTED UNION FLA...|       6|12/1/2010 8:26|     3.39|     17850|United Kingdom|\n",
      "|   536365|   84029E|RED WOOLLY HOTTIE...|       6|12/1/2010 8:26|     3.39|     17850|United Kingdom|\n",
      "|   536365|    22752|SET 7 BABUSHKA NE...|       2|12/1/2010 8:26|     7.65|     17850|United Kingdom|\n",
      "|   536365|    21730|GLASS STAR FROSTE...|       6|12/1/2010 8:26|     4.25|     17850|United Kingdom|\n",
      "|   536366|    22633|HAND WARMER UNION...|       6|12/1/2010 8:28|     1.85|     17850|United Kingdom|\n",
      "|   536366|    22632|HAND WARMER RED P...|       6|12/1/2010 8:28|     1.85|     17850|United Kingdom|\n",
      "|   536367|    84879|ASSORTED COLOUR B...|      32|12/1/2010 8:34|     1.69|     13047|United Kingdom|\n",
      "|   536367|    22745|POPPY'S PLAYHOUSE...|       6|12/1/2010 8:34|      2.1|     13047|United Kingdom|\n",
      "|   536367|    22748|POPPY'S PLAYHOUSE...|       6|12/1/2010 8:34|      2.1|     13047|United Kingdom|\n",
      "|   536367|    22749|FELTCRAFT PRINCES...|       8|12/1/2010 8:34|     3.75|     13047|United Kingdom|\n",
      "|   536367|    22310|IVORY KNITTED MUG...|       6|12/1/2010 8:34|     1.65|     13047|United Kingdom|\n",
      "|   536367|    84969|BOX OF 6 ASSORTED...|       6|12/1/2010 8:34|     4.25|     13047|United Kingdom|\n",
      "|   536367|    22623|BOX OF VINTAGE JI...|       3|12/1/2010 8:34|     4.95|     13047|United Kingdom|\n",
      "|   536367|    22622|BOX OF VINTAGE AL...|       2|12/1/2010 8:34|     9.95|     13047|United Kingdom|\n",
      "|   536367|    21754|HOME BUILDING BLO...|       3|12/1/2010 8:34|     5.95|     13047|United Kingdom|\n",
      "|   536367|    21755|LOVE BUILDING BLO...|       3|12/1/2010 8:34|     5.95|     13047|United Kingdom|\n",
      "|   536367|    21777|RECIPE BOX WITH M...|       4|12/1/2010 8:34|     7.95|     13047|United Kingdom|\n",
      "+---------+---------+--------------------+--------+--------------+---------+----------+--------------+\n",
      "only showing top 20 rows\n",
      "\n"
     ]
    }
   ],
   "source": [
    "df.show()"
   ]
  },
  {
   "cell_type": "code",
   "execution_count": 7,
   "metadata": {},
   "outputs": [
    {
     "data": {
      "text/plain": [
       "StructType(List(StructField(InvoiceNo,StringType,true),StructField(StockCode,StringType,true),StructField(Description,StringType,true),StructField(Quantity,IntegerType,true),StructField(InvoiceDate,StringType,true),StructField(UnitPrice,DoubleType,true),StructField(CustomerID,IntegerType,true),StructField(Country,StringType,true)))"
      ]
     },
     "execution_count": 7,
     "metadata": {},
     "output_type": "execute_result"
    }
   ],
   "source": [
    "df.schema"
   ]
  },
  {
   "cell_type": "code",
   "execution_count": 8,
   "metadata": {},
   "outputs": [],
   "source": [
    "df.createOrReplaceTempView(\"ecommerce\")"
   ]
  },
  {
   "cell_type": "code",
   "execution_count": 9,
   "metadata": {},
   "outputs": [
    {
     "name": "stdout",
     "output_type": "stream",
     "text": [
      "+------+------+\n",
      "|    ID| Items|\n",
      "+------+------+\n",
      "|536365|85123A|\n",
      "|536365| 71053|\n",
      "|536365|84406B|\n",
      "|536365|84029G|\n",
      "|536365|84029E|\n",
      "|536365| 22752|\n",
      "|536365| 21730|\n",
      "|536366| 22633|\n",
      "|536366| 22632|\n",
      "|536367| 84879|\n",
      "|536367| 22745|\n",
      "|536367| 22748|\n",
      "|536367| 22749|\n",
      "|536367| 22310|\n",
      "|536367| 84969|\n",
      "|536367| 22623|\n",
      "|536367| 22622|\n",
      "|536367| 21754|\n",
      "|536367| 21755|\n",
      "|536367| 21777|\n",
      "+------+------+\n",
      "only showing top 20 rows\n",
      "\n"
     ]
    }
   ],
   "source": [
    "query1 = spark.sql(\"SELECT InvoiceNo as ID, StockCode as Items FROM ecommerce\")\n",
    "query1.show()"
   ]
  },
  {
   "cell_type": "code",
   "execution_count": 11,
   "metadata": {},
   "outputs": [
    {
     "name": "stdout",
     "output_type": "stream",
     "text": [
      "+------+------+--------------------+\n",
      "|    ID| Items|         Description|\n",
      "+------+------+--------------------+\n",
      "|536365|85123A|WHITE HANGING HEA...|\n",
      "|536365| 71053| WHITE METAL LANTERN|\n",
      "|536365|84406B|CREAM CUPID HEART...|\n",
      "|536365|84029G|KNITTED UNION FLA...|\n",
      "|536365|84029E|RED WOOLLY HOTTIE...|\n",
      "|536365| 22752|SET 7 BABUSHKA NE...|\n",
      "|536365| 21730|GLASS STAR FROSTE...|\n",
      "|536366| 22633|HAND WARMER UNION...|\n",
      "|536366| 22632|HAND WARMER RED P...|\n",
      "|536367| 84879|ASSORTED COLOUR B...|\n",
      "|536367| 22745|POPPY'S PLAYHOUSE...|\n",
      "|536367| 22748|POPPY'S PLAYHOUSE...|\n",
      "|536367| 22749|FELTCRAFT PRINCES...|\n",
      "|536367| 22310|IVORY KNITTED MUG...|\n",
      "|536367| 84969|BOX OF 6 ASSORTED...|\n",
      "|536367| 22623|BOX OF VINTAGE JI...|\n",
      "|536367| 22622|BOX OF VINTAGE AL...|\n",
      "|536367| 21754|HOME BUILDING BLO...|\n",
      "|536367| 21755|LOVE BUILDING BLO...|\n",
      "|536367| 21777|RECIPE BOX WITH M...|\n",
      "+------+------+--------------------+\n",
      "only showing top 20 rows\n",
      "\n"
     ]
    }
   ],
   "source": [
    "query2 = spark.sql(\"SELECT InvoiceNo as ID, StockCode as Items, Description FROM ecommerce\")\n",
    "query2.show()"
   ]
  },
  {
   "cell_type": "markdown",
   "metadata": {},
   "source": [
    "# Data Grouping"
   ]
  },
  {
   "cell_type": "code",
   "execution_count": 12,
   "metadata": {},
   "outputs": [],
   "source": [
    "#Mengelompokkan data berdasarkan InvoiceNo\n",
    "\n",
    "from pyspark.sql.functions import collect_list\n",
    "query1_group = query1.groupby(\"ID\").agg(collect_list('Items').alias('Items'))"
   ]
  },
  {
   "cell_type": "code",
   "execution_count": 13,
   "metadata": {},
   "outputs": [
    {
     "name": "stdout",
     "output_type": "stream",
     "text": [
      "+-------+--------------------+\n",
      "|     ID|               Items|\n",
      "+-------+--------------------+\n",
      "| 536596|[21624, 22900, 22...|\n",
      "| 536938|[22386, 85099C, 2...|\n",
      "| 537252|             [22197]|\n",
      "| 537691|[22791, 22171, 82...|\n",
      "| 538041|             [22145]|\n",
      "| 538184|[22585, 21481, 22...|\n",
      "| 538517|[22491, 21232, 21...|\n",
      "| 538879|[84819, 22150, 21...|\n",
      "| 539275|[22909, 22423, 22...|\n",
      "| 539630|[21484, 85099B, 2...|\n",
      "| 540499|[21868, 22697, 22...|\n",
      "| 540540|[21877, 21868, 21...|\n",
      "| 540976|[22394, 21890, 22...|\n",
      "| 541432|[21485, 22457, 84...|\n",
      "| 541518|[21880, 21881, 21...|\n",
      "| 541783|[22423, 22854, 22...|\n",
      "| 542026|[21754, 82600, 22...|\n",
      "| 542375|[21731, 22367, 22...|\n",
      "|C540850|             [21231]|\n",
      "| 543641|[85123A, 21833, 2...|\n",
      "+-------+--------------------+\n",
      "only showing top 20 rows\n",
      "\n"
     ]
    }
   ],
   "source": [
    "query1_group.show()"
   ]
  },
  {
   "cell_type": "markdown",
   "metadata": {},
   "source": [
    "# Remove Duplicates Data"
   ]
  },
  {
   "cell_type": "code",
   "execution_count": 15,
   "metadata": {},
   "outputs": [],
   "source": [
    "#Menghilangkan data rangkap\n",
    "\n",
    "from pyspark.sql.functions import udf\n",
    "from pyspark.sql.types import ArrayType, StringType\n",
    "\n",
    "distinct_items= udf(lambda row: list(set(row)), ArrayType(StringType()))\n",
    "query1_group = query1_group.withColumn(\"Distinct Items\", distinct_items(\"Items\"))"
   ]
  },
  {
   "cell_type": "code",
   "execution_count": 16,
   "metadata": {},
   "outputs": [
    {
     "name": "stdout",
     "output_type": "stream",
     "text": [
      "+-------+--------------------+--------------------+\n",
      "|     ID|               Items|      Distinct Items|\n",
      "+-------+--------------------+--------------------+\n",
      "| 536596|[21624, 22900, 22...|[84926A, 21624, 2...|\n",
      "| 536938|[22386, 85099C, 2...|[21479, 84997B, 2...|\n",
      "| 537252|             [22197]|             [22197]|\n",
      "| 537691|[22791, 22171, 82...|[20975, 22149, 21...|\n",
      "| 538041|             [22145]|             [22145]|\n",
      "| 538184|[22585, 21481, 22...|[22492, 22561, 48...|\n",
      "| 538517|[22491, 21232, 21...|[22197, 22844, 22...|\n",
      "| 538879|[84819, 22150, 21...|[22593, 22983, 22...|\n",
      "| 539275|[22909, 22423, 22...|[22423, 21914, 22...|\n",
      "| 539630|[21484, 85099B, 2...|[22988, 84347, 22...|\n",
      "| 540499|[21868, 22697, 22...|[21755, 84978, 22...|\n",
      "| 540540|[21877, 21868, 21...|[22555, 22551, 22...|\n",
      "| 540976|[22394, 21890, 22...|[22207, 21110, 84...|\n",
      "| 541432|[21485, 22457, 84...|[22113, 22457, 21...|\n",
      "| 541518|[21880, 21881, 21...|[20724, 21982, 20...|\n",
      "| 541783|[22423, 22854, 22...|[22197, 84978, 22...|\n",
      "| 542026|[21754, 82600, 22...|[22197, 22398, 22...|\n",
      "| 542375|[21731, 22367, 22...|[22367, 22629, 21...|\n",
      "|C540850|             [21231]|             [21231]|\n",
      "| 543641|[85123A, 21833, 2...|[22371, 44265, 21...|\n",
      "+-------+--------------------+--------------------+\n",
      "only showing top 20 rows\n",
      "\n"
     ]
    }
   ],
   "source": [
    "query1_group.show()"
   ]
  },
  {
   "cell_type": "markdown",
   "metadata": {},
   "source": [
    "# FP Growth Algorithm"
   ]
  },
  {
   "cell_type": "code",
   "execution_count": 17,
   "metadata": {},
   "outputs": [],
   "source": [
    "from pyspark.ml.fpm import FPGrowth"
   ]
  },
  {
   "cell_type": "code",
   "execution_count": 18,
   "metadata": {},
   "outputs": [],
   "source": [
    "fpGrowth = FPGrowth(itemsCol=\"Distinct Items\", minSupport=0.5, minConfidence=0.5)\n",
    "model=fpGrowth.fit(query1_group)"
   ]
  },
  {
   "cell_type": "code",
   "execution_count": 19,
   "metadata": {},
   "outputs": [
    {
     "name": "stdout",
     "output_type": "stream",
     "text": [
      "+-----+----+\n",
      "|items|freq|\n",
      "+-----+----+\n",
      "+-----+----+\n",
      "\n"
     ]
    }
   ],
   "source": [
    "model.freqItemsets.show()"
   ]
  },
  {
   "cell_type": "code",
   "execution_count": 20,
   "metadata": {},
   "outputs": [
    {
     "name": "stdout",
     "output_type": "stream",
     "text": [
      "+----------+----------+----------+\n",
      "|antecedent|consequent|confidence|\n",
      "+----------+----------+----------+\n",
      "+----------+----------+----------+\n",
      "\n"
     ]
    }
   ],
   "source": [
    "model.associationRules.show()"
   ]
  },
  {
   "cell_type": "code",
   "execution_count": 21,
   "metadata": {},
   "outputs": [],
   "source": [
    "fpGrowth1 = FPGrowth(itemsCol=\"Distinct Items\", minSupport=0.05, minConfidence=0.1)\n",
    "model1=fpGrowth1.fit(query1_group)"
   ]
  },
  {
   "cell_type": "code",
   "execution_count": 22,
   "metadata": {},
   "outputs": [
    {
     "name": "stdout",
     "output_type": "stream",
     "text": [
      "+--------+----+\n",
      "|   items|freq|\n",
      "+--------+----+\n",
      "|[85123A]|2246|\n",
      "| [22423]|2172|\n",
      "|[85099B]|2135|\n",
      "| [47566]|1706|\n",
      "| [20725]|1608|\n",
      "| [84879]|1468|\n",
      "| [22720]|1462|\n",
      "| [22197]|1442|\n",
      "| [21212]|1334|\n",
      "| [22383]|1306|\n",
      "| [20727]|1295|\n",
      "+--------+----+\n",
      "\n"
     ]
    }
   ],
   "source": [
    "model1.freqItemsets.show()"
   ]
  },
  {
   "cell_type": "code",
   "execution_count": 23,
   "metadata": {},
   "outputs": [
    {
     "name": "stdout",
     "output_type": "stream",
     "text": [
      "+----------+----------+----------+\n",
      "|antecedent|consequent|confidence|\n",
      "+----------+----------+----------+\n",
      "+----------+----------+----------+\n",
      "\n"
     ]
    }
   ],
   "source": [
    "model1.associationRules.show()"
   ]
  },
  {
   "cell_type": "code",
   "execution_count": 24,
   "metadata": {},
   "outputs": [],
   "source": [
    "fpGrowth2 = FPGrowth(itemsCol=\"Distinct Items\", minSupport=0.01, minConfidence=0.1)\n",
    "model2=fpGrowth2.fit(query1_group)"
   ]
  },
  {
   "cell_type": "code",
   "execution_count": 25,
   "metadata": {},
   "outputs": [
    {
     "name": "stdout",
     "output_type": "stream",
     "text": [
      "+----------------+----+\n",
      "|           items|freq|\n",
      "+----------------+----+\n",
      "|         [22633]| 487|\n",
      "|         [23236]| 344|\n",
      "|        [85123A]|2246|\n",
      "|         [22423]|2172|\n",
      "| [22423, 85123A]| 355|\n",
      "|         [22667]| 486|\n",
      "|         [22579]| 343|\n",
      "|  [22579, 22578]| 282|\n",
      "|        [85099B]|2135|\n",
      "| [85099B, 22423]| 288|\n",
      "|[85099B, 85123A]| 404|\n",
      "|         [22620]| 486|\n",
      "|        [84536A]| 342|\n",
      "|         [71053]| 342|\n",
      "|         [47566]|1706|\n",
      "| [47566, 85099B]| 332|\n",
      "|  [47566, 22423]| 398|\n",
      "| [47566, 85123A]| 391|\n",
      "|         [85150]| 483|\n",
      "|         [20725]|1608|\n",
      "+----------------+----+\n",
      "only showing top 20 rows\n",
      "\n"
     ]
    }
   ],
   "source": [
    "model2.freqItemsets.show()"
   ]
  },
  {
   "cell_type": "code",
   "execution_count": 26,
   "metadata": {},
   "outputs": [
    {
     "name": "stdout",
     "output_type": "stream",
     "text": [
      "+--------------+----------+-------------------+\n",
      "|    antecedent|consequent|         confidence|\n",
      "+--------------+----------+-------------------+\n",
      "|       [22554]|   [22551]| 0.4823695345557123|\n",
      "|       [22554]|   [22556]| 0.3991537376586742|\n",
      "|       [22960]|   [21212]|0.21885245901639344|\n",
      "|       [22960]|  [85099B]|0.23688524590163934|\n",
      "|       [22960]|   [22423]|0.23852459016393443|\n",
      "|       [22960]|   [22720]| 0.3155737704918033|\n",
      "|       [22960]|   [22961]|0.38934426229508196|\n",
      "|       [22960]|   [22666]|0.28032786885245903|\n",
      "|       [22960]|   [22993]| 0.2540983606557377|\n",
      "|       [22960]|   [22697]|0.21475409836065573|\n",
      "|       [22960]|   [22722]|0.22131147540983606|\n",
      "|[20726, 22382]|   [20728]|  0.546583850931677|\n",
      "|[20726, 22382]|   [20725]| 0.6356107660455487|\n",
      "|[20726, 22382]|   [20727]| 0.5445134575569358|\n",
      "|[20726, 22382]|   [22383]| 0.5403726708074534|\n",
      "|       [21977]|   [21212]| 0.4948571428571429|\n",
      "|       [21977]|   [84991]| 0.4045714285714286|\n",
      "|       [22699]|   [22423]|0.47946428571428573|\n",
      "|       [22699]|   [23170]|0.24910714285714286|\n",
      "|       [22699]|   [22697]|                0.7|\n",
      "+--------------+----------+-------------------+\n",
      "only showing top 20 rows\n",
      "\n"
     ]
    }
   ],
   "source": [
    "model2.associationRules.show()"
   ]
  },
  {
   "cell_type": "code",
   "execution_count": 27,
   "metadata": {},
   "outputs": [
    {
     "name": "stdout",
     "output_type": "stream",
     "text": [
      "+-------+--------------------+--------------------+--------------------+\n",
      "|     ID|               Items|      Distinct Items|          prediction|\n",
      "+-------+--------------------+--------------------+--------------------+\n",
      "| 536596|[21624, 22900, 22...|[84926A, 21624, 2...|[23355, 22112, 22...|\n",
      "| 536938|[22386, 85099C, 2...|[21479, 84997B, 2...|[85099B, 20725, 2...|\n",
      "| 537252|             [22197]|             [22197]|[85099B, 20725, 2...|\n",
      "| 537691|[22791, 22171, 82...|[20975, 22149, 21...|[21212, 85099B, 2...|\n",
      "| 538041|             [22145]|             [22145]|                  []|\n",
      "| 538184|[22585, 21481, 22...|[22492, 22561, 48...|[85099B, 85123A, ...|\n",
      "| 538517|[22491, 21232, 21...|[22197, 22844, 22...|[85099B, 20725, 2...|\n",
      "| 538879|[84819, 22150, 21...|[22593, 22983, 22...|[84991, 85099B, 2...|\n",
      "| 539275|[22909, 22423, 22...|[22423, 21914, 22...|[85123A, 85099B, ...|\n",
      "| 539630|[21484, 85099B, 2...|[22988, 84347, 22...|[85123A, 47566, 2...|\n",
      "| 540499|[21868, 22697, 22...|[21755, 84978, 22...|[23170, 22698, DO...|\n",
      "| 540540|[21877, 21868, 21...|[22555, 22551, 22...|[22112, 21485, 22...|\n",
      "| 540976|[22394, 21890, 22...|[22207, 21110, 84...|[22556, 21931, 20...|\n",
      "| 541432|[21485, 22457, 84...|[22113, 22457, 21...|[85099B, 85123A, ...|\n",
      "| 541518|[21880, 21881, 21...|[20724, 21982, 20...|[21931, 20725, 22...|\n",
      "| 541783|[22423, 22854, 22...|[22197, 84978, 22...|[23170, 22698, DO...|\n",
      "| 542026|[21754, 82600, 22...|[22197, 22398, 22...|[21755, 85099B, 2...|\n",
      "| 542375|[21731, 22367, 22...|[22367, 22629, 21...|[22630, 22659, 85...|\n",
      "|C540850|             [21231]|             [21231]|             [21232]|\n",
      "| 543641|[85123A, 21833, 2...|[22371, 44265, 21...|[22423, 85099B, 4...|\n",
      "+-------+--------------------+--------------------+--------------------+\n",
      "only showing top 20 rows\n",
      "\n"
     ]
    }
   ],
   "source": [
    "model2.transform(query1_group).show()"
   ]
  },
  {
   "cell_type": "code",
   "execution_count": 44,
   "metadata": {},
   "outputs": [],
   "source": [
    "dataframe=spark.createDataFrame([\n",
    "            ('0',['21231'])\n",
    "        ],['ID','Distinct Items'])"
   ]
  },
  {
   "cell_type": "code",
   "execution_count": 45,
   "metadata": {},
   "outputs": [
    {
     "name": "stdout",
     "output_type": "stream",
     "text": [
      "+---+--------------+\n",
      "| ID|Distinct Items|\n",
      "+---+--------------+\n",
      "|  0|       [21231]|\n",
      "+---+--------------+\n",
      "\n"
     ]
    }
   ],
   "source": [
    "dataframe.show()"
   ]
  },
  {
   "cell_type": "code",
   "execution_count": 46,
   "metadata": {},
   "outputs": [
    {
     "name": "stdout",
     "output_type": "stream",
     "text": [
      "+---+--------------+----------+\n",
      "| ID|Distinct Items|prediction|\n",
      "+---+--------------+----------+\n",
      "|  0|       [21231]|   [21232]|\n",
      "+---+--------------+----------+\n",
      "\n"
     ]
    }
   ],
   "source": [
    "model2.transform(dataframe).show()"
   ]
  },
  {
   "cell_type": "markdown",
   "metadata": {},
   "source": [
    "# Conclusion"
   ]
  },
  {
   "cell_type": "code",
   "execution_count": 37,
   "metadata": {},
   "outputs": [],
   "source": [
    "query2.createOrReplaceTempView(\"conclusion\")"
   ]
  },
  {
   "cell_type": "code",
   "execution_count": 49,
   "metadata": {},
   "outputs": [],
   "source": [
    "conc=spark.sql(\"SELECT DISTINCT Description FROM conclusion WHERE Items='21231'\")"
   ]
  },
  {
   "cell_type": "code",
   "execution_count": 50,
   "metadata": {},
   "outputs": [
    {
     "name": "stdout",
     "output_type": "stream",
     "text": [
      "+--------------------+\n",
      "|         Description|\n",
      "+--------------------+\n",
      "|SWEETHEART CERAMI...|\n",
      "+--------------------+\n",
      "\n"
     ]
    }
   ],
   "source": [
    "conc.show()"
   ]
  },
  {
   "cell_type": "code",
   "execution_count": 52,
   "metadata": {},
   "outputs": [],
   "source": [
    "conc1=spark.sql(\"SELECT DISTINCT Description FROM conclusion WHERE Items='21232'\")"
   ]
  },
  {
   "cell_type": "code",
   "execution_count": 53,
   "metadata": {},
   "outputs": [
    {
     "name": "stdout",
     "output_type": "stream",
     "text": [
      "+--------------------+\n",
      "|         Description|\n",
      "+--------------------+\n",
      "|STRAWBERRY CERAMI...|\n",
      "|STRAWBERRY CERAMI...|\n",
      "+--------------------+\n",
      "\n"
     ]
    }
   ],
   "source": [
    "conc1.show()"
   ]
  },
  {
   "cell_type": "markdown",
   "metadata": {},
   "source": [
    "##### Dapat disimpulkan jika ketika orang membeli Sweetheart Ceramic juga akan memberli Strawberry Ceramic"
   ]
  },
  {
   "cell_type": "markdown",
   "metadata": {},
   "source": [
    "# Reference"
   ]
  },
  {
   "cell_type": "markdown",
   "metadata": {},
   "source": [
    "1. FP Growth Tutorial https://spark.apache.org/docs/2.3.0/ml-frequent-pattern-mining.html\n",
    "2. Menghilangkan multiple data https://stackoverflow.com/questions/54185710/remove-duplicates-from-pyspark-array-column"
   ]
  },
  {
   "cell_type": "code",
   "execution_count": null,
   "metadata": {},
   "outputs": [],
   "source": []
  }
 ],
 "metadata": {
  "kernelspec": {
   "display_name": "Python 3",
   "language": "python",
   "name": "python3"
  },
  "language_info": {
   "codemirror_mode": {
    "name": "ipython",
    "version": 3
   },
   "file_extension": ".py",
   "mimetype": "text/x-python",
   "name": "python",
   "nbconvert_exporter": "python",
   "pygments_lexer": "ipython3",
   "version": "3.6.4"
  }
 },
 "nbformat": 4,
 "nbformat_minor": 2
}
