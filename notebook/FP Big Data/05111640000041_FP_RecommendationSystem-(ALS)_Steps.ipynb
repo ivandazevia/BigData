{
 "cells": [
  {
   "cell_type": "markdown",
   "metadata": {},
   "source": [
    "# Final Project Big Data"
   ]
  },
  {
   "cell_type": "markdown",
   "metadata": {},
   "source": [
    "### Spark Recommendation (ALS)"
   ]
  },
  {
   "cell_type": "markdown",
   "metadata": {},
   "source": [
    "Dataset = Book-Crossing Dataset from http://www2.informatik.uni-freiburg.de/~cziegler/BX/"
   ]
  },
  {
   "cell_type": "markdown",
   "metadata": {},
   "source": [
    "## Spark Initialization"
   ]
  },
  {
   "cell_type": "code",
   "execution_count": 1,
   "metadata": {},
   "outputs": [],
   "source": [
    "# Import findspark to read SPARK_HOME and HADOOP_HOME\n",
    "import findspark\n",
    "findspark.init()"
   ]
  },
  {
   "cell_type": "code",
   "execution_count": 2,
   "metadata": {},
   "outputs": [],
   "source": [
    "# Import required library\n",
    "from pyspark.sql import SparkSession\n",
    "\n",
    "# Create Spark Session\n",
    "spark = SparkSession \\\n",
    "    .builder \\\n",
    "    .appName(\"Final Project Big Data Recommendation System\") \\\n",
    "    .getOrCreate()"
   ]
  },
  {
   "cell_type": "code",
   "execution_count": 3,
   "metadata": {},
   "outputs": [
    {
     "name": "stdout",
     "output_type": "stream",
     "text": [
      "<pyspark.sql.session.SparkSession object at 0x000002C2193953C8>\n"
     ]
    }
   ],
   "source": [
    "# Print Spark object ID\n",
    "print(spark)"
   ]
  },
  {
   "cell_type": "code",
   "execution_count": 4,
   "metadata": {},
   "outputs": [],
   "source": [
    "from pyspark.ml.evaluation import RegressionEvaluator\n",
    "from pyspark.ml.recommendation import ALS\n",
    "from pyspark.sql import Row\n",
    "from pyspark.sql import types\n",
    "from pyspark.sql.types import *\n",
    "from pyspark.sql import functions as F"
   ]
  },
  {
   "cell_type": "markdown",
   "metadata": {},
   "source": [
    "## Praproses"
   ]
  },
  {
   "cell_type": "code",
   "execution_count": 5,
   "metadata": {},
   "outputs": [],
   "source": [
    "lines = spark.read.csv(\"F:/fpbigdata/fpedit/dataset/BX-Book-Ratings.csv\", header=True, inferSchema=True)"
   ]
  },
  {
   "cell_type": "code",
   "execution_count": 6,
   "metadata": {},
   "outputs": [
    {
     "name": "stdout",
     "output_type": "stream",
     "text": [
      "[Row(User-ID=276725, ISBN='034545104X', Book-Rating='0'), Row(User-ID=276726, ISBN='0155061224', Book-Rating='5'), Row(User-ID=276727, ISBN='0446520802', Book-Rating='0'), Row(User-ID=276729, ISBN='052165615X', Book-Rating='3'), Row(User-ID=276729, ISBN='0521795028', Book-Rating='6')]\n"
     ]
    }
   ],
   "source": [
    "print(lines.take(5))"
   ]
  },
  {
   "cell_type": "code",
   "execution_count": 7,
   "metadata": {},
   "outputs": [],
   "source": [
    "lines = lines.selectExpr(['`User-ID` as uid','`ISBN` as iid','`Book-Rating` as rating'])"
   ]
  },
  {
   "cell_type": "code",
   "execution_count": 8,
   "metadata": {},
   "outputs": [
    {
     "name": "stdout",
     "output_type": "stream",
     "text": [
      "+------+----------+------+\n",
      "|   uid|       iid|rating|\n",
      "+------+----------+------+\n",
      "|276725|034545104X|     0|\n",
      "|276726|0155061224|     5|\n",
      "|276727|0446520802|     0|\n",
      "|276729|052165615X|     3|\n",
      "|276729|0521795028|     6|\n",
      "|276733|2080674722|     0|\n",
      "|276736|3257224281|     8|\n",
      "|276737|0600570967|     6|\n",
      "|276744|038550120X|     7|\n",
      "|276745| 342310538|    10|\n",
      "|276746|0425115801|     0|\n",
      "|276746|0449006522|     0|\n",
      "|276746|0553561618|     0|\n",
      "|276746|055356451X|     0|\n",
      "|276746|0786013990|     0|\n",
      "|276746|0786014512|     0|\n",
      "|276747|0060517794|     9|\n",
      "|276747|0451192001|     0|\n",
      "|276747|0609801279|     0|\n",
      "|276747|0671537458|     9|\n",
      "+------+----------+------+\n",
      "only showing top 20 rows\n",
      "\n"
     ]
    }
   ],
   "source": [
    "lines.show()"
   ]
  },
  {
   "cell_type": "code",
   "execution_count": 9,
   "metadata": {},
   "outputs": [],
   "source": [
    "from pyspark.ml.feature import StringIndexer\n",
    "from pyspark.ml.feature import IndexToString, StringIndexer\n",
    "\n",
    "stringindexer = StringIndexer(inputCol='iid',outputCol='iid_int')\n",
    "stringindexer.setHandleInvalid(\"keep\")\n",
    "model = stringindexer.fit(lines)\n",
    "lines_int = model.transform(lines)\n",
    "\n",
    "stringindexer = StringIndexer(inputCol='rating',outputCol='rating_int')\n",
    "stringindexer.setHandleInvalid(\"keep\")\n",
    "model = stringindexer.fit(lines_int)\n",
    "lines_int_fix = model.transform(lines_int)"
   ]
  },
  {
   "cell_type": "code",
   "execution_count": 10,
   "metadata": {},
   "outputs": [
    {
     "name": "stdout",
     "output_type": "stream",
     "text": [
      "+------+----------+------+--------+----------+\n",
      "|   uid|       iid|rating| iid_int|rating_int|\n",
      "+------+----------+------+--------+----------+\n",
      "|276725|034545104X|     0|  1636.0|       0.0|\n",
      "|276726|0155061224|     5| 87069.0|       5.0|\n",
      "|276727|0446520802|     0|   568.0|       0.0|\n",
      "|276729|052165615X|     3|310005.0|       8.0|\n",
      "|276729|0521795028|     6|147200.0|       6.0|\n",
      "|276733|2080674722|     0| 77066.0|       0.0|\n",
      "|276736|3257224281|     8| 35182.0|       1.0|\n",
      "|276737|0600570967|     6|293513.0|       6.0|\n",
      "|276744|038550120X|     7|   232.0|       3.0|\n",
      "|276745| 342310538|    10| 87749.0|       2.0|\n",
      "|276746|0425115801|     0|   446.0|       0.0|\n",
      "|276746|0449006522|     0|   604.0|       0.0|\n",
      "|276746|0553561618|     0|   424.0|       0.0|\n",
      "|276746|055356451X|     0|   280.0|       0.0|\n",
      "|276746|0786013990|     0| 24580.0|       0.0|\n",
      "|276746|0786014512|     0| 14934.0|       0.0|\n",
      "|276747|0060517794|     9|  1413.0|       4.0|\n",
      "|276747|0451192001|     0|   933.0|       0.0|\n",
      "|276747|0609801279|     0|  6407.0|       0.0|\n",
      "|276747|0671537458|     9|   918.0|       4.0|\n",
      "+------+----------+------+--------+----------+\n",
      "only showing top 20 rows\n",
      "\n"
     ]
    }
   ],
   "source": [
    "lines_int_fix.show()"
   ]
  },
  {
   "cell_type": "markdown",
   "metadata": {},
   "source": [
    "## Create Model"
   ]
  },
  {
   "cell_type": "code",
   "execution_count": 11,
   "metadata": {},
   "outputs": [],
   "source": [
    "(training, test) = lines_int_fix.randomSplit([0.8, 0.2])"
   ]
  },
  {
   "cell_type": "code",
   "execution_count": 12,
   "metadata": {},
   "outputs": [],
   "source": [
    "from pyspark.ml.evaluation import RegressionEvaluator\n",
    "from pyspark.ml.recommendation import ALS\n",
    "import pandas as pd\n",
    "\n",
    "# Build the recommendation model using ALS on the training data\n",
    "# Note we set cold start strategy to 'drop' to ensure we don't get NaN evaluation metrics\n",
    "\n",
    "# training\n",
    "als = ALS(maxIter=5, regParam=0.01, userCol=\"uid\", itemCol=\"iid_int\", ratingCol=\"rating_int\",\n",
    "          coldStartStrategy=\"drop\")\n",
    "model = als.fit(training)"
   ]
  },
  {
   "cell_type": "code",
   "execution_count": 13,
   "metadata": {},
   "outputs": [],
   "source": [
    "# Evaluate the model by computing the RMSE on the test data\n",
    "\n",
    "predictions = model.transform(test.select(['uid','iid_int','rating_int']))\n",
    "evaluator = RegressionEvaluator(metricName=\"rmse\", labelCol=\"rating_int\",\n",
    "                                predictionCol=\"prediction\")"
   ]
  },
  {
   "cell_type": "code",
   "execution_count": 15,
   "metadata": {},
   "outputs": [
    {
     "name": "stdout",
     "output_type": "stream",
     "text": [
      "+------+-------+----------+-----------+\n",
      "|   uid|iid_int|rating_int| prediction|\n",
      "+------+-------+----------+-----------+\n",
      "|128325|  148.0|       1.0|  0.2593763|\n",
      "| 85469|  148.0|       0.0| 0.45757502|\n",
      "| 39646|  148.0|       0.0| 0.26206467|\n",
      "|190265|  148.0|       0.0|  0.6133786|\n",
      "| 52320|  148.0|       0.0| 0.30535117|\n",
      "| 87974|  148.0|       0.0|  0.2536206|\n",
      "|176887|  148.0|       0.0| 0.73066115|\n",
      "|126783|  148.0|       0.0|   1.689151|\n",
      "|126296|  148.0|       3.0| 0.14112091|\n",
      "|170151|  148.0|       0.0| 0.30627152|\n",
      "| 55187|  148.0|       0.0|-0.26722392|\n",
      "|135045|  148.0|       0.0| 0.16514327|\n",
      "| 99277|  148.0|       0.0|        0.0|\n",
      "|136733|  148.0|       0.0|  1.5444038|\n",
      "| 65663|  148.0|       0.0|  0.5297955|\n",
      "|227538|  148.0|       1.0|-0.55059314|\n",
      "|194600|  148.0|       0.0|  1.0464805|\n",
      "| 35599|  148.0|       0.0| 0.21653593|\n",
      "|236621|  148.0|       4.0|  2.2070847|\n",
      "|222815|  148.0|       6.0|        0.0|\n",
      "+------+-------+----------+-----------+\n",
      "only showing top 20 rows\n",
      "\n"
     ]
    }
   ],
   "source": [
    "predictions.show()"
   ]
  },
  {
   "cell_type": "code",
   "execution_count": 16,
   "metadata": {},
   "outputs": [
    {
     "name": "stdout",
     "output_type": "stream",
     "text": [
      "Root-mean-square error = 2.765616461076877\n"
     ]
    }
   ],
   "source": [
    "rmse = evaluator.evaluate(predictions)\n",
    "print(\"Root-mean-square error = \" + str(rmse))"
   ]
  },
  {
   "cell_type": "code",
   "execution_count": 17,
   "metadata": {},
   "outputs": [],
   "source": [
    "# Generate top 10 kindle recommendations for each user\n",
    "userRecs = model.recommendForAllUsers(10)\n",
    "# Generate top 10 user recommendations for each kindle\n",
    "kindleRecs = model.recommendForAllItems(10)"
   ]
  },
  {
   "cell_type": "code",
   "execution_count": 18,
   "metadata": {},
   "outputs": [
    {
     "name": "stdout",
     "output_type": "stream",
     "text": [
      "+----+--------------------+\n",
      "| uid|     recommendations|\n",
      "+----+--------------------+\n",
      "| 463|[[96910, 2.864231...|\n",
      "| 496|[[125235, 5.56441...|\n",
      "|1238|[[324380, 0.0], [...|\n",
      "|1591|[[66670, 4.491403...|\n",
      "|1829|[[334813, 21.0745...|\n",
      "|2366|[[335730, 3.34303...|\n",
      "|3175|[[314345, 13.2731...|\n",
      "|3918|[[157703, 7.94734...|\n",
      "|4900|[[16017, 23.96244...|\n",
      "|5300|[[16010, 9.27822]...|\n",
      "|5803|[[325821, 0.0], [...|\n",
      "|6336|[[46852, 51.38335...|\n",
      "|6357|[[0, 0.0], [10, 0...|\n",
      "|6397|[[43036, 14.42467...|\n",
      "|6466|[[43036, 12.08002...|\n",
      "|6654|[[289336, 9.88285...|\n",
      "|7253|[[181558, 15.2299...|\n",
      "|7340|[[324380, 0.0], [...|\n",
      "|7982|[[157302, 40.8238...|\n",
      "|8086|[[16758, 15.18254...|\n",
      "+----+--------------------+\n",
      "only showing top 20 rows\n",
      "\n"
     ]
    }
   ],
   "source": [
    "userRecs.show()"
   ]
  },
  {
   "cell_type": "code",
   "execution_count": 19,
   "metadata": {},
   "outputs": [
    {
     "name": "stdout",
     "output_type": "stream",
     "text": [
      "+-------+--------------------+\n",
      "|iid_int|     recommendations|\n",
      "+-------+--------------------+\n",
      "|    148|[[167176, 11.1398...|\n",
      "|    463|[[193612, 16.9533...|\n",
      "|    471|[[193612, 29.2024...|\n",
      "|    496|[[122026, 15.1684...|\n",
      "|    833|[[122026, 23.5405...|\n",
      "|   1088|[[148996, 13.6660...|\n",
      "|   1238|[[20147, 14.53997...|\n",
      "|   1342|[[256303, 21.6534...|\n",
      "|   1580|[[43307, 24.94523...|\n",
      "|   1591|[[130063, 13.3577...|\n",
      "|   1645|[[148996, 21.1738...|\n",
      "|   1829|[[268761, 24.9287...|\n",
      "|   1959|[[69980, 36.59109...|\n",
      "|   2122|[[202353, 26.9485...|\n",
      "|   2142|[[26070, 20.95494...|\n",
      "|   2366|[[256303, 38.0626...|\n",
      "|   2659|[[163169, 34.1202...|\n",
      "|   2866|[[162474, 24.4992...|\n",
      "|   3175|[[136357, 23.3752...|\n",
      "|   3749|[[251754, 12.1458...|\n",
      "+-------+--------------------+\n",
      "only showing top 20 rows\n",
      "\n"
     ]
    }
   ],
   "source": [
    "kindleRecs.show()"
   ]
  },
  {
   "cell_type": "code",
   "execution_count": null,
   "metadata": {},
   "outputs": [],
   "source": []
  }
 ],
 "metadata": {
  "kernelspec": {
   "display_name": "Python 3",
   "language": "python",
   "name": "python3"
  },
  "language_info": {
   "codemirror_mode": {
    "name": "ipython",
    "version": 3
   },
   "file_extension": ".py",
   "mimetype": "text/x-python",
   "name": "python",
   "nbconvert_exporter": "python",
   "pygments_lexer": "ipython3",
   "version": "3.6.4"
  }
 },
 "nbformat": 4,
 "nbformat_minor": 2
}
