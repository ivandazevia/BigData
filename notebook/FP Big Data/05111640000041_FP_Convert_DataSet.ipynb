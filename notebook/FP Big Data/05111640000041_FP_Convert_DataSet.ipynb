{
 "cells": [
  {
   "cell_type": "markdown",
   "metadata": {},
   "source": [
    "# Final Project Big Data"
   ]
  },
  {
   "cell_type": "markdown",
   "metadata": {},
   "source": [
    "### Praproses Dataset"
   ]
  },
  {
   "cell_type": "markdown",
   "metadata": {},
   "source": [
    "Pada proses ini dilakukan pengkonversian dataset untuk mempermudah proses pembuatan API. Dataset yang digunakan adalah Book-Crossing Dataset (http://www2.informatik.uni-freiburg.de/~cziegler/BX/)"
   ]
  },
  {
   "cell_type": "markdown",
   "metadata": {},
   "source": [
    "## Spark Inizialitation"
   ]
  },
  {
   "cell_type": "code",
   "execution_count": 1,
   "metadata": {},
   "outputs": [],
   "source": [
    "# Import findspark to read SPARK_HOME and HADOOP_HOME\n",
    "import findspark\n",
    "findspark.init()"
   ]
  },
  {
   "cell_type": "code",
   "execution_count": 2,
   "metadata": {},
   "outputs": [],
   "source": [
    "# Import required library\n",
    "from pyspark.sql import SparkSession\n",
    "\n",
    "# Create Spark Session\n",
    "spark = SparkSession \\\n",
    "    .builder \\\n",
    "    .appName(\"Convert Dataset\") \\\n",
    "    .getOrCreate()"
   ]
  },
  {
   "cell_type": "code",
   "execution_count": 3,
   "metadata": {},
   "outputs": [
    {
     "name": "stdout",
     "output_type": "stream",
     "text": [
      "<pyspark.sql.session.SparkSession object at 0x000002723BF75400>\n"
     ]
    }
   ],
   "source": [
    "# Print Spark object ID\n",
    "print(spark)"
   ]
  },
  {
   "cell_type": "code",
   "execution_count": 4,
   "metadata": {},
   "outputs": [],
   "source": [
    "from pyspark.ml.evaluation import RegressionEvaluator\n",
    "from pyspark.ml.recommendation import ALS\n",
    "from pyspark.sql import Row\n",
    "from pyspark.sql import types\n",
    "import os\n",
    "from pyspark.sql.types import *\n",
    "from pyspark.sql import functions as F"
   ]
  },
  {
   "cell_type": "markdown",
   "metadata": {},
   "source": [
    "## Convert Dataset 1 (BX-Book-Ratings)"
   ]
  },
  {
   "cell_type": "code",
   "execution_count": 5,
   "metadata": {},
   "outputs": [],
   "source": [
    "lines = spark.read.csv(\"F:/fpbigdata/fpedit/dataset/BX-Book-Ratings.csv\", header=True, inferSchema=True)"
   ]
  },
  {
   "cell_type": "code",
   "execution_count": 6,
   "metadata": {},
   "outputs": [],
   "source": [
    "lines = lines.selectExpr(['`User-ID` as uid','`ISBN` as iid','`Book-Rating` as rating'])"
   ]
  },
  {
   "cell_type": "code",
   "execution_count": 7,
   "metadata": {},
   "outputs": [
    {
     "name": "stdout",
     "output_type": "stream",
     "text": [
      "+------+----------+------+\n",
      "|   uid|       iid|rating|\n",
      "+------+----------+------+\n",
      "|276725|034545104X|     0|\n",
      "|276726|0155061224|     5|\n",
      "|276727|0446520802|     0|\n",
      "|276729|052165615X|     3|\n",
      "|276729|0521795028|     6|\n",
      "|276733|2080674722|     0|\n",
      "|276736|3257224281|     8|\n",
      "|276737|0600570967|     6|\n",
      "|276744|038550120X|     7|\n",
      "|276745| 342310538|    10|\n",
      "|276746|0425115801|     0|\n",
      "|276746|0449006522|     0|\n",
      "|276746|0553561618|     0|\n",
      "|276746|055356451X|     0|\n",
      "|276746|0786013990|     0|\n",
      "|276746|0786014512|     0|\n",
      "|276747|0060517794|     9|\n",
      "|276747|0451192001|     0|\n",
      "|276747|0609801279|     0|\n",
      "|276747|0671537458|     9|\n",
      "+------+----------+------+\n",
      "only showing top 20 rows\n",
      "\n"
     ]
    }
   ],
   "source": [
    "lines.show()"
   ]
  },
  {
   "cell_type": "code",
   "execution_count": 8,
   "metadata": {},
   "outputs": [],
   "source": [
    "from pyspark.ml.feature import StringIndexer\n",
    "from pyspark.ml.feature import IndexToString, StringIndexer\n",
    "\n",
    "stringindexer = StringIndexer(inputCol='iid',outputCol='iid_int')\n",
    "stringindexer.setHandleInvalid(\"keep\")\n",
    "model = stringindexer.fit(lines)\n",
    "lines_int = model.transform(lines)\n",
    "\n",
    "stringindexer = StringIndexer(inputCol='rating',outputCol='rating_int')\n",
    "stringindexer.setHandleInvalid(\"keep\")\n",
    "model = stringindexer.fit(lines_int)\n",
    "lines_int_fix = model.transform(lines_int)"
   ]
  },
  {
   "cell_type": "code",
   "execution_count": 9,
   "metadata": {},
   "outputs": [
    {
     "name": "stdout",
     "output_type": "stream",
     "text": [
      "+------+----------+------+--------+----------+\n",
      "|   uid|       iid|rating| iid_int|rating_int|\n",
      "+------+----------+------+--------+----------+\n",
      "|276725|034545104X|     0|  1636.0|       0.0|\n",
      "|276726|0155061224|     5| 87069.0|       5.0|\n",
      "|276727|0446520802|     0|   568.0|       0.0|\n",
      "|276729|052165615X|     3|310005.0|       8.0|\n",
      "|276729|0521795028|     6|147200.0|       6.0|\n",
      "|276733|2080674722|     0| 77066.0|       0.0|\n",
      "|276736|3257224281|     8| 35182.0|       1.0|\n",
      "|276737|0600570967|     6|293513.0|       6.0|\n",
      "|276744|038550120X|     7|   232.0|       3.0|\n",
      "|276745| 342310538|    10| 87749.0|       2.0|\n",
      "|276746|0425115801|     0|   446.0|       0.0|\n",
      "|276746|0449006522|     0|   604.0|       0.0|\n",
      "|276746|0553561618|     0|   424.0|       0.0|\n",
      "|276746|055356451X|     0|   280.0|       0.0|\n",
      "|276746|0786013990|     0| 24580.0|       0.0|\n",
      "|276746|0786014512|     0| 14934.0|       0.0|\n",
      "|276747|0060517794|     9|  1413.0|       4.0|\n",
      "|276747|0451192001|     0|   933.0|       0.0|\n",
      "|276747|0609801279|     0|  6407.0|       0.0|\n",
      "|276747|0671537458|     9|   918.0|       4.0|\n",
      "+------+----------+------+--------+----------+\n",
      "only showing top 20 rows\n",
      "\n"
     ]
    }
   ],
   "source": [
    "lines_int_fix.show()"
   ]
  },
  {
   "cell_type": "code",
   "execution_count": 11,
   "metadata": {},
   "outputs": [],
   "source": [
    "lines_int_fix.repartition(1).write.format('com.databricks.spark.csv').save(\"F:/fpbigdata/fpedit/newdataset/BookCrossing.csv\",header = 'true')"
   ]
  },
  {
   "cell_type": "markdown",
   "metadata": {},
   "source": [
    "## Convert Dataset 2 (BX-Books)"
   ]
  },
  {
   "cell_type": "code",
   "execution_count": 13,
   "metadata": {},
   "outputs": [],
   "source": [
    "lines = spark.read.csv(\"F:/fpbigdata/fpedit/dataset/BX-Books.csv\", header=True, inferSchema=True)"
   ]
  },
  {
   "cell_type": "code",
   "execution_count": 14,
   "metadata": {},
   "outputs": [],
   "source": [
    "lines = lines.drop(\"Year-Of-Publication\",\"Publisher\",\"Image-URL-S\",\"Image-URL-M\",\"Image-URL-L\")"
   ]
  },
  {
   "cell_type": "code",
   "execution_count": 15,
   "metadata": {},
   "outputs": [
    {
     "name": "stdout",
     "output_type": "stream",
     "text": [
      "[Row(ISBN='0195153448', Book-Title='Classical Mythology', Book-Author='Mark P. O. Morford'), Row(ISBN='0002005018', Book-Title='Clara Callan', Book-Author='Richard Bruce Wright'), Row(ISBN='0060973129', Book-Title='Decision in Normandy', Book-Author=\"Carlo D'Este\"), Row(ISBN='0374157065', Book-Title='Flu: The Story of the Great Influenza Pandemic of 1918 and the Search for the Virus That Caused It', Book-Author='Gina Bari Kolata'), Row(ISBN='0393045218', Book-Title='The Mummies of Urumchi', Book-Author='E. J. W. Barber')]\n"
     ]
    }
   ],
   "source": [
    "print(lines.take(5))"
   ]
  },
  {
   "cell_type": "code",
   "execution_count": 17,
   "metadata": {},
   "outputs": [],
   "source": [
    "lines = lines.selectExpr(['`ISBN` as bid','`Book-Title` as bname','`Book-Author` as bauthor'])"
   ]
  },
  {
   "cell_type": "code",
   "execution_count": 18,
   "metadata": {},
   "outputs": [
    {
     "name": "stdout",
     "output_type": "stream",
     "text": [
      "+----------+--------------------+--------------------+\n",
      "|       bid|               bname|             bauthor|\n",
      "+----------+--------------------+--------------------+\n",
      "|0195153448| Classical Mythology|  Mark P. O. Morford|\n",
      "|0002005018|        Clara Callan|Richard Bruce Wright|\n",
      "|0060973129|Decision in Normandy|        Carlo D'Este|\n",
      "|0374157065|Flu: The Story of...|    Gina Bari Kolata|\n",
      "|0393045218|The Mummies of Ur...|     E. J. W. Barber|\n",
      "|0399135782|The Kitchen God's...|             Amy Tan|\n",
      "|0425176428|What If?: The Wor...|       Robert Cowley|\n",
      "|0671870432|     PLEADING GUILTY|         Scott Turow|\n",
      "|0679425608|Under the Black F...|     David Cordingly|\n",
      "|074322678X|Where You'll Find...|         Ann Beattie|\n",
      "|0771074670|Nights Below Stat...|David Adams Richards|\n",
      "|080652121X|Hitler's Secret B...|          Adam Lebor|\n",
      "|0887841740|  The Middle Stories|         Sheila Heti|\n",
      "|1552041778|            Jane Doe|        R. J. Kaiser|\n",
      "|1558746218|A Second Chicken ...|       Jack Canfield|\n",
      "|1567407781|The Witchfinder (...|   Loren D. Estleman|\n",
      "|1575663937|More Cunning Than...|  Robert Hendrickson|\n",
      "|1881320189|Goodbye to the Bu...|        Julia Oliver|\n",
      "|0440234743|       The Testament|        John Grisham|\n",
      "|0452264464|Beloved (Plume Co...|       Toni Morrison|\n",
      "+----------+--------------------+--------------------+\n",
      "only showing top 20 rows\n",
      "\n"
     ]
    }
   ],
   "source": [
    "lines.show()"
   ]
  },
  {
   "cell_type": "code",
   "execution_count": 19,
   "metadata": {},
   "outputs": [],
   "source": [
    "from pyspark.ml.feature import StringIndexer\n",
    "from pyspark.ml.feature import IndexToString, StringIndexer\n",
    "\n",
    "stringindexer = StringIndexer(inputCol='bid',outputCol='bid_int')\n",
    "stringindexer.setHandleInvalid(\"keep\")\n",
    "model = stringindexer.fit(lines)\n",
    "lines_int = model.transform(lines)"
   ]
  },
  {
   "cell_type": "code",
   "execution_count": 20,
   "metadata": {},
   "outputs": [
    {
     "name": "stdout",
     "output_type": "stream",
     "text": [
      "+----------+--------------------+--------------------+--------+\n",
      "|       bid|               bname|             bauthor| bid_int|\n",
      "+----------+--------------------+--------------------+--------+\n",
      "|0195153448| Classical Mythology|  Mark P. O. Morford|119165.0|\n",
      "|0002005018|        Clara Callan|Richard Bruce Wright| 33817.0|\n",
      "|0060973129|Decision in Normandy|        Carlo D'Este| 43432.0|\n",
      "|0374157065|Flu: The Story of...|    Gina Bari Kolata|188211.0|\n",
      "|0393045218|The Mummies of Ur...|     E. J. W. Barber|156302.0|\n",
      "|0399135782|The Kitchen God's...|             Amy Tan|198730.0|\n",
      "|0425176428|What If?: The Wor...|       Robert Cowley| 37272.0|\n",
      "|0671870432|     PLEADING GUILTY|         Scott Turow|122925.0|\n",
      "|0679425608|Under the Black F...|     David Cordingly|248741.0|\n",
      "|074322678X|Where You'll Find...|         Ann Beattie|142907.0|\n",
      "|0771074670|Nights Below Stat...|David Adams Richards|228708.0|\n",
      "|080652121X|Hitler's Secret B...|          Adam Lebor| 60719.0|\n",
      "|0887841740|  The Middle Stories|         Sheila Heti|131914.0|\n",
      "|1552041778|            Jane Doe|        R. J. Kaiser|120621.0|\n",
      "|1558746218|A Second Chicken ...|       Jack Canfield|171421.0|\n",
      "|1567407781|The Witchfinder (...|   Loren D. Estleman| 99477.0|\n",
      "|1575663937|More Cunning Than...|  Robert Hendrickson|126881.0|\n",
      "|1881320189|Goodbye to the Bu...|        Julia Oliver|182317.0|\n",
      "|0440234743|       The Testament|        John Grisham|244394.0|\n",
      "|0452264464|Beloved (Plume Co...|       Toni Morrison|102523.0|\n",
      "+----------+--------------------+--------------------+--------+\n",
      "only showing top 20 rows\n",
      "\n"
     ]
    }
   ],
   "source": [
    "lines_int.show()"
   ]
  },
  {
   "cell_type": "code",
   "execution_count": 21,
   "metadata": {},
   "outputs": [],
   "source": [
    "lines_int.repartition(1).write.format('com.databricks.spark.csv').save(\"F:/fpbigdata/fpedit/newdataset/BookDetail.csv\",header = 'true')"
   ]
  }
 ],
 "metadata": {
  "kernelspec": {
   "display_name": "Python 3",
   "language": "python",
   "name": "python3"
  },
  "language_info": {
   "codemirror_mode": {
    "name": "ipython",
    "version": 3
   },
   "file_extension": ".py",
   "mimetype": "text/x-python",
   "name": "python",
   "nbconvert_exporter": "python",
   "pygments_lexer": "ipython3",
   "version": "3.6.4"
  }
 },
 "nbformat": 4,
 "nbformat_minor": 2
}
