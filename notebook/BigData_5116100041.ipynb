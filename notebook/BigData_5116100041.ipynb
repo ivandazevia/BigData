{
 "cells": [
  {
   "cell_type": "markdown",
   "metadata": {},
   "source": [
    "# Spark Initialization"
   ]
  },
  {
   "cell_type": "code",
   "execution_count": 1,
   "metadata": {},
   "outputs": [],
   "source": [
    "# Import findspark to read SPARK_HOME and HADOOP_HOME\n",
    "import findspark\n",
    "findspark.init()"
   ]
  },
  {
   "cell_type": "code",
   "execution_count": 2,
   "metadata": {},
   "outputs": [],
   "source": [
    "# Import required library\n",
    "from pyspark.sql import SparkSession\n",
    "\n",
    "# Create Spark Session\n",
    "spark = SparkSession \\\n",
    "    .builder \\\n",
    "    .appName(\"Python Spark SQL basic example\") \\\n",
    "    .getOrCreate()"
   ]
  },
  {
   "cell_type": "code",
   "execution_count": 3,
   "metadata": {},
   "outputs": [
    {
     "name": "stdout",
     "output_type": "stream",
     "text": [
      "<pyspark.sql.session.SparkSession object at 0x000001D678CD2B70>\n"
     ]
    }
   ],
   "source": [
    "# Print Spark object ID\n",
    "print(spark)"
   ]
  },
  {
   "cell_type": "markdown",
   "metadata": {},
   "source": [
    "# Loading Data using Spark"
   ]
  },
  {
   "cell_type": "code",
   "execution_count": 4,
   "metadata": {},
   "outputs": [],
   "source": [
    "# Data dapat di download di https://www.kaggle.com/daveianhickey/2000-16-traffic-flow-england-scotland-wales\n",
    "# Ukuran file 136MB\n",
    "\n",
    "df = spark.read.csv(\"F:/Semester 6/BigData/DataSet/1-6m-accidents-traffic-flow-over-16-years/accidents_2012_to_2014.csv\", header=True, inferSchema=True)"
   ]
  },
  {
   "cell_type": "code",
   "execution_count": 5,
   "metadata": {},
   "outputs": [
    {
     "data": {
      "text/plain": [
       "464697"
      ]
     },
     "execution_count": 5,
     "metadata": {},
     "output_type": "execute_result"
    }
   ],
   "source": [
    "# Jumlah data\n",
    "\n",
    "df.count()"
   ]
  },
  {
   "cell_type": "code",
   "execution_count": 6,
   "metadata": {},
   "outputs": [
    {
     "name": "stdout",
     "output_type": "stream",
     "text": [
      "+--------------+---------------------+----------------------+---------+---------+------------+-----------------+------------------+--------------------+----------+-----------+-----+--------------------------+-------------------------+--------------+---------------+------------------+-----------+---------------+--------------------+--------------+---------------+---------------------------------+---------------------------------------+--------------------+--------------------+-----------------------+--------------------------+-------------------+-------------------+-------------------------------------------+-------------------------+----+\n",
      "|Accident_Index|Location_Easting_OSGR|Location_Northing_OSGR|Longitude| Latitude|Police_Force|Accident_Severity|Number_of_Vehicles|Number_of_Casualties|      Date|Day_of_Week| Time|Local_Authority_(District)|Local_Authority_(Highway)|1st_Road_Class|1st_Road_Number|         Road_Type|Speed_limit|Junction_Detail|    Junction_Control|2nd_Road_Class|2nd_Road_Number|Pedestrian_Crossing-Human_Control|Pedestrian_Crossing-Physical_Facilities|    Light_Conditions|  Weather_Conditions|Road_Surface_Conditions|Special_Conditions_at_Site|Carriageway_Hazards|Urban_or_Rural_Area|Did_Police_Officer_Attend_Scene_of_Accident|LSOA_of_Accident_Location|Year|\n",
      "+--------------+---------------------+----------------------+---------+---------+------------+-----------------+------------------+--------------------+----------+-----------+-----+--------------------------+-------------------------+--------------+---------------+------------------+-----------+---------------+--------------------+--------------+---------------+---------------------------------+---------------------------------------+--------------------+--------------------+-----------------------+--------------------------+-------------------+-------------------+-------------------------------------------+-------------------------+----+\n",
      "| 201201BS70001|               527200|                178760|-0.169101|51.493429|           1|                3|                 2|                   1|19/01/2012|          5|20:35|                        12|                E09000020|             3|            308|Single carriageway|         30|           null|Automatic traffic...|             5|              0|             None within 50 me...|                   Pedestrian phase ...|Darkness: Street ...|Fine without high...|                    Dry|                      None|               None|                  1|                                        Yes|                E01002821|2012|\n",
      "| 201201BS70002|               524930|                181430|-0.200838|51.517931|           1|                3|                 2|                   1|04/01/2012|          4|17:00|                         1|                E09000033|             4|            412|Single carriageway|         30|           null|Giveway or uncont...|             6|              0|             None within 50 me...|                   No physical cross...|Darkness: Street ...|Fine without high...|                    Dry|                      None|               None|                  1|                                        Yes|                E01004760|2012|\n",
      "| 201201BS70003|               525860|                178080|-0.188636|51.487618|           1|                3|                 2|                   1|10/01/2012|          3|10:07|                        12|                E09000020|             3|           3220|    One way street|         30|           null|Giveway or uncont...|             6|              0|             None within 50 me...|                   non-junction pede...|Daylight: Street ...|Fine without high...|                    Dry|                      None|               None|                  1|                                        Yes|                E01002893|2012|\n",
      "| 201201BS70004|               524980|                181030|-0.200259|51.514325|           1|                3|                 1|                   1|18/01/2012|          4|12:20|                        12|                E09000020|             5|              0|Single carriageway|         30|           null|Giveway or uncont...|             6|              0|             None within 50 me...|                   No physical cross...|Daylight: Street ...|Fine without high...|                    Dry|                      None|               None|                  1|                                        Yes|                E01002886|2012|\n",
      "| 201201BS70005|               526170|                179200|-0.183773|51.497614|           1|                3|                 1|                   1|17/01/2012|          3|20:24|                        12|                E09000020|             4|            325|Single carriageway|         30|           null|Giveway or uncont...|             6|              0|             None within 50 me...|                   No physical cross...|Darkness: Street ...|Fine without high...|                    Dry|                      None|               None|                  1|                                        Yes|                E01002890|2012|\n",
      "| 201201BS70006|               526090|                177600|-0.185496|51.483253|           1|                3|                 2|                   1|19/01/2012|          5|07:30|                        12|                E09000020|             3|            308|Single carriageway|         30|           null|Automatic traffic...|             3|           3220|             None within 50 me...|                   Pedestrian phase ...|Darkness: Street ...|Raining without h...|               Wet/Damp|                      None|               None|                  1|                                        Yes|                E01002912|2012|\n",
      "| 201201BS70007|               527780|                179680|-0.160418|51.501567|           1|                3|                 1|                   1|12/01/2012|          5|14:00|                         1|                E09000033|             3|           3216|Single carriageway|         30|           null|Automatic traffic...|             3|              4|             None within 50 me...|                   Pedestrian phase ...|Daylight: Street ...|Fine without high...|                    Dry|                      None|               None|                  1|                                        Yes|                E01002818|2012|\n",
      "| 201201BS70008|               524010|                182080|-0.213862|51.523975|           1|                3|                 2|                   1|07/01/2012|          7|11:29|                        12|                E09000020|             4|            450|        Roundabout|         30|           null|Giveway or uncont...|             5|              0|             None within 50 me...|                         Zebra crossing|Daylight: Street ...|Fine without high...|                    Dry|                      None|               None|                  1|                                        Yes|                E01002905|2012|\n",
      "| 201201BS70010|               527710|                179290|-0.161567|51.498077|           1|                3|                 2|                   1|07/01/2012|          7|13:55|                        12|                E09000020|             6|              0|    One way street|         30|           null|Giveway or uncont...|             6|              0|             None within 50 me...|                   No physical cross...|Daylight: Street ...|Fine without high...|                    Dry|                      None|               None|                  1|                                         No|                E01002818|2012|\n",
      "| 201201BS70011|               525120|                180060|-0.198587|51.505576|           1|                3|                 2|                   1|04/01/2012|          4|19:40|                        12|                E09000020|             5|              0|Single carriageway|         30|           null|Giveway or uncont...|             6|              0|             None within 50 me...|                   No physical cross...|Darkness: Street ...|Raining without h...|               Wet/Damp|                      None|               None|                  1|                                        Yes|                E01002825|2012|\n",
      "| 201201BS70012|               525720|                179680|-0.190082|51.502028|           1|                3|                 1|                   1|08/01/2012|          1|17:15|                        12|                E09000020|             3|            315|Single carriageway|         30|           null|Giveway or uncont...|             6|              0|             None within 50 me...|                   non-junction pede...|Darkness: Street ...|Fine without high...|                    Dry|                      None|               None|                  1|                                        Yes|                E01002889|2012|\n",
      "| 201201BS70013|               524720|                179100|-0.204686|51.497037|           1|                3|                 2|                   2|01/01/2012|          1|05:05|                        12|                E09000020|             3|            315|Single carriageway|         30|           null|Automatic traffic...|             3|           3220|             None within 50 me...|                   Pedestrian phase ...|Darkness: Street ...|Fine without high...|               Wet/Damp|                      None|               None|                  1|                                        Yes|                E01002867|2012|\n",
      "| 201201BS70014|               525200|                180430|-0.197303|51.508884|           1|                3|                 2|                   1|04/01/2012|          4|08:25|                        12|                E09000020|             3|            402|  Dual carriageway|         30|           null|Automatic traffic...|             3|           4206|             None within 50 me...|                   Pedestrian phase ...|Daylight: Street ...|Fine without high...|                    Dry|                      None|               None|                  1|                                        Yes|                E01002884|2012|\n",
      "| 201201BS70015|               524460|                181000| -0.20776| 51.51417|           1|                3|                 1|                   1|03/01/2012|          3|17:36|                        12|                E09000020|             4|            415|Single carriageway|         30|           null|Automatic traffic...|             4|            450|             None within 50 me...|                   Pedestrian phase ...|Darkness: Street ...|               Other|               Wet/Damp|                      None|               None|                  1|                                        Yes|                E01002874|2012|\n",
      "| 201201BS70016|               524350|                181210| -0.20927|51.516082|           1|                3|                 1|                   1|11/01/2012|          4|18:11|                        12|                E09000020|             4|            450|Single carriageway|         30|           null|Automatic traffic...|             4|            412|             None within 50 me...|                   Pedestrian phase ...|Darkness: Street ...|Fine without high...|                    Dry|                      None|               None|                  1|                                        Yes|                E01002879|2012|\n",
      "| 201201BS70017|               526460|                177460| -0.18022|51.481912|           1|                3|                 1|                   1|12/01/2012|          5|09:10|                        12|                E09000020|             3|           3217|Single carriageway|         30|           null|Giveway or uncont...|             6|              0|             None within 50 me...|                         Zebra crossing|Daylight: Street ...|Fine without high...|                    Dry|                      None|               None|                  1|                                        Yes|                E01002840|2012|\n",
      "| 201201BS70018|               524170|                180690|-0.212046|51.511448|           1|                3|                 2|                   1|04/01/2012|          4|20:40|                        12|                E09000020|             6|              0|Single carriageway|         30|           null|Giveway or uncont...|             6|              0|             None within 50 me...|                   No physical cross...|Darkness: Street ...|Raining without h...|               Wet/Damp|                      None|               None|                  1|                                        Yes|                E01002872|2012|\n",
      "| 201201BS70019|               526930|                177480|-0.173448|51.481986|           1|                3|                 2|                   2|07/01/2012|          7|23:00|                        12|                E09000020|             3|           3220|Single carriageway|         30|           null|Automatic traffic...|             3|           3220|             None within 50 me...|                   Pedestrian phase ...|Darkness: Street ...|Fine without high...|                    Dry|                      None|               None|                  1|                                        Yes|                E01002840|2012|\n",
      "| 201201BS70020|               525260|                179000|-0.196947|51.496019|           1|                3|                 1|                   1|06/01/2012|          6|17:20|                        12|                E09000020|             4|            316|    One way street|         30|           null|                null|            -1|              0|             None within 50 me...|                   No physical cross...|Darkness: Street ...|Fine without high...|                    Dry|                      None|               None|                  1|                                        Yes|                E01002813|2012|\n",
      "| 201201BS70021|               525370|                180260|-0.194916|51.507318|           1|                3|                 1|                   1|12/01/2012|          5|19:25|                        12|                E09000020|             3|           4204|Single carriageway|         30|           null|Giveway or uncont...|             6|              0|             None within 50 me...|                         Zebra crossing|Darkness: Street ...|Fine without high...|                    Dry|                      None|               None|                  1|                                        Yes|                E01002827|2012|\n",
      "+--------------+---------------------+----------------------+---------+---------+------------+-----------------+------------------+--------------------+----------+-----------+-----+--------------------------+-------------------------+--------------+---------------+------------------+-----------+---------------+--------------------+--------------+---------------+---------------------------------+---------------------------------------+--------------------+--------------------+-----------------------+--------------------------+-------------------+-------------------+-------------------------------------------+-------------------------+----+\n",
      "only showing top 20 rows\n",
      "\n"
     ]
    }
   ],
   "source": [
    "# Menampilkan data\n",
    "\n",
    "df.show()"
   ]
  },
  {
   "cell_type": "code",
   "execution_count": 7,
   "metadata": {},
   "outputs": [
    {
     "data": {
      "text/plain": [
       "StructType(List(StructField(Accident_Index,StringType,true),StructField(Location_Easting_OSGR,IntegerType,true),StructField(Location_Northing_OSGR,IntegerType,true),StructField(Longitude,DoubleType,true),StructField(Latitude,DoubleType,true),StructField(Police_Force,IntegerType,true),StructField(Accident_Severity,IntegerType,true),StructField(Number_of_Vehicles,IntegerType,true),StructField(Number_of_Casualties,IntegerType,true),StructField(Date,StringType,true),StructField(Day_of_Week,IntegerType,true),StructField(Time,StringType,true),StructField(Local_Authority_(District),IntegerType,true),StructField(Local_Authority_(Highway),StringType,true),StructField(1st_Road_Class,IntegerType,true),StructField(1st_Road_Number,IntegerType,true),StructField(Road_Type,StringType,true),StructField(Speed_limit,IntegerType,true),StructField(Junction_Detail,StringType,true),StructField(Junction_Control,StringType,true),StructField(2nd_Road_Class,IntegerType,true),StructField(2nd_Road_Number,IntegerType,true),StructField(Pedestrian_Crossing-Human_Control,StringType,true),StructField(Pedestrian_Crossing-Physical_Facilities,StringType,true),StructField(Light_Conditions,StringType,true),StructField(Weather_Conditions,StringType,true),StructField(Road_Surface_Conditions,StringType,true),StructField(Special_Conditions_at_Site,StringType,true),StructField(Carriageway_Hazards,StringType,true),StructField(Urban_or_Rural_Area,IntegerType,true),StructField(Did_Police_Officer_Attend_Scene_of_Accident,StringType,true),StructField(LSOA_of_Accident_Location,StringType,true),StructField(Year,IntegerType,true)))"
      ]
     },
     "execution_count": 7,
     "metadata": {},
     "output_type": "execute_result"
    }
   ],
   "source": [
    "# Data Types\n",
    "\n",
    "df.schema"
   ]
  },
  {
   "cell_type": "code",
   "execution_count": 8,
   "metadata": {},
   "outputs": [],
   "source": [
    "# Register the DataFrame as a SQL temporary view\n",
    "\n",
    "df.createOrReplaceTempView(\"accidents\")"
   ]
  },
  {
   "cell_type": "code",
   "execution_count": 9,
   "metadata": {},
   "outputs": [],
   "source": [
    "result = spark.sql(\"SELECT DISTINCT Road_Surface_Conditions FROM accidents\")"
   ]
  },
  {
   "cell_type": "code",
   "execution_count": 10,
   "metadata": {},
   "outputs": [
    {
     "name": "stdout",
     "output_type": "stream",
     "text": [
      "+-----------------------+\n",
      "|Road_Surface_Conditions|\n",
      "+-----------------------+\n",
      "|   Flood (Over 3cm o...|\n",
      "|              Frost/Ice|\n",
      "|                   null|\n",
      "|               Wet/Damp|\n",
      "|                    Dry|\n",
      "|                   Snow|\n",
      "+-----------------------+\n",
      "\n"
     ]
    }
   ],
   "source": [
    "result.show()"
   ]
  },
  {
   "cell_type": "markdown",
   "metadata": {},
   "source": [
    "# Data Mining Process"
   ]
  },
  {
   "cell_type": "code",
   "execution_count": 11,
   "metadata": {},
   "outputs": [],
   "source": [
    "# 1. Jumlah kecelakaan dalam tiap hari\n",
    "\n",
    "query1 = spark.sql(\"SELECT TO_DATE(`Date`, 'MM/DD/YYYY') AS date, COUNT(`Date`) \\\n",
    "                    FROM accidents \\\n",
    "                    GROUP BY `Date` \\\n",
    "                    ORDER BY `Date` DESC\")"
   ]
  },
  {
   "cell_type": "code",
   "execution_count": 12,
   "metadata": {},
   "outputs": [
    {
     "name": "stdout",
     "output_type": "stream",
     "text": [
      "+----------+-----------+\n",
      "|      date|count(Date)|\n",
      "+----------+-----------+\n",
      "|2012-01-01|        510|\n",
      "|2012-01-01|        550|\n",
      "|2012-01-01|        572|\n",
      "|2012-01-01|        669|\n",
      "|2012-01-01|        317|\n",
      "|2012-01-01|        489|\n",
      "|2012-01-01|        540|\n",
      "|2012-01-01|        424|\n",
      "|2012-01-01|        631|\n",
      "|2012-01-01|        678|\n",
      "|2012-01-01|        516|\n",
      "|2012-01-01|        392|\n",
      "|2012-01-01|        548|\n",
      "|2012-01-01|        356|\n",
      "|2012-01-01|        322|\n",
      "|2012-01-01|        504|\n",
      "|2012-01-01|        536|\n",
      "|2012-01-01|        457|\n",
      "|2012-01-01|        485|\n",
      "|2012-01-01|        631|\n",
      "+----------+-----------+\n",
      "only showing top 20 rows\n",
      "\n"
     ]
    }
   ],
   "source": [
    "query1.show()"
   ]
  },
  {
   "cell_type": "code",
   "execution_count": 13,
   "metadata": {},
   "outputs": [],
   "source": [
    "# 2. Jumlah kecelakaan yang didatangi polisi berdasarkan keparahan kecelakaan\n",
    "# 1 Fatal\n",
    "# 2 Serious\n",
    "# 3 Slight\n",
    "\n",
    "query2 = spark.sql(\"SELECT Accident_Severity, COUNT(Did_Police_Officer_Attend_Scene_of_Accident) as Jumlah_Yes \\\n",
    "                    FROM accidents \\\n",
    "                    WHERE Did_Police_Officer_Attend_Scene_of_Accident='Yes'\\\n",
    "                    GROUP BY Accident_Severity \\\n",
    "                    ORDER BY COUNT(Accident_Severity) DESC\")"
   ]
  },
  {
   "cell_type": "code",
   "execution_count": 14,
   "metadata": {},
   "outputs": [
    {
     "name": "stdout",
     "output_type": "stream",
     "text": [
      "+-----------------+----------+\n",
      "|Accident_Severity|Jumlah_Yes|\n",
      "+-----------------+----------+\n",
      "|                3|    315162|\n",
      "|                2|     60449|\n",
      "|                1|      5239|\n",
      "+-----------------+----------+\n",
      "\n"
     ]
    }
   ],
   "source": [
    "query2.show()"
   ]
  },
  {
   "cell_type": "code",
   "execution_count": 15,
   "metadata": {},
   "outputs": [],
   "source": [
    "# 3. Pengaruh cuaca terhadap keparahan kecelakaan\n",
    "\n",
    "query3 = spark.sql(\"SELECT Accident_Severity, Weather_Conditions, COUNT(Accident_Severity) as Jumlah \\\n",
    "                    FROM accidents \\\n",
    "                    GROUP BY Accident_Severity, Weather_Conditions \\\n",
    "                    ORDER BY Accident_Severity ASC\")"
   ]
  },
  {
   "cell_type": "code",
   "execution_count": 16,
   "metadata": {},
   "outputs": [
    {
     "name": "stdout",
     "output_type": "stream",
     "text": [
      "+-----------------+--------------------+------+\n",
      "|Accident_Severity|  Weather_Conditions|Jumlah|\n",
      "+-----------------+--------------------+------+\n",
      "|                1|Snowing without h...|    24|\n",
      "|                1|             Unknown|    54|\n",
      "|                1|         Fog or mist|    53|\n",
      "|                1|Fine with high winds|    79|\n",
      "|                1|Raining without h...|   512|\n",
      "|                1|Snowing with high...|     3|\n",
      "|                1|               Other|    61|\n",
      "|                1|Raining with high...|    81|\n",
      "|                1|Fine without high...|  4436|\n",
      "|                2|Snowing without h...|   285|\n",
      "|                2|Snowing with high...|    78|\n",
      "|                2|               Other|  1068|\n",
      "|                2|Fine without high...| 55006|\n",
      "|                2|Fine with high winds|   756|\n",
      "|                2|             Unknown|   964|\n",
      "|                2|Raining with high...|   949|\n",
      "|                2|         Fog or mist|   355|\n",
      "|                2|Raining without h...|  7323|\n",
      "|                3|Raining with high...|  6090|\n",
      "|                3|Snowing with high...|   652|\n",
      "+-----------------+--------------------+------+\n",
      "only showing top 20 rows\n",
      "\n"
     ]
    }
   ],
   "source": [
    "query3.show()"
   ]
  },
  {
   "cell_type": "code",
   "execution_count": 17,
   "metadata": {},
   "outputs": [],
   "source": [
    "# 4. Pengaruh tipe jalan terhadap speed limit\n",
    "\n",
    "query4 = spark.sql(\"SELECT DISTINCT Road_Type, Speed_limit \\\n",
    "                    FROM accidents \\\n",
    "                    GROUP BY Road_Type, Speed_limit\")"
   ]
  },
  {
   "cell_type": "code",
   "execution_count": 18,
   "metadata": {},
   "outputs": [
    {
     "name": "stdout",
     "output_type": "stream",
     "text": [
      "+------------------+-----------+\n",
      "|         Road_Type|Speed_limit|\n",
      "+------------------+-----------+\n",
      "|  Dual carriageway|         50|\n",
      "|        Roundabout|         60|\n",
      "|    One way street|         40|\n",
      "|Single carriageway|         10|\n",
      "|    One way street|         60|\n",
      "|         Slip road|         60|\n",
      "|        Roundabout|         30|\n",
      "|Single carriageway|         20|\n",
      "|         Slip road|         40|\n",
      "|  Dual carriageway|         40|\n",
      "|           Unknown|         70|\n",
      "|Single carriageway|         60|\n",
      "|         Slip road|         50|\n",
      "|           Unknown|         30|\n",
      "|Single carriageway|         50|\n",
      "|        Roundabout|         70|\n",
      "|        Roundabout|         20|\n",
      "|        Roundabout|         40|\n",
      "|           Unknown|         60|\n",
      "|         Slip road|         70|\n",
      "+------------------+-----------+\n",
      "only showing top 20 rows\n",
      "\n"
     ]
    }
   ],
   "source": [
    "query4.show()"
   ]
  },
  {
   "cell_type": "code",
   "execution_count": 19,
   "metadata": {},
   "outputs": [],
   "source": [
    "# 5. Pengaruh fasilitas terdekat yang ada dengan jumlah korban\n",
    "\n",
    "query5 = spark.sql(\"SELECT `Pedestrian_Crossing-Physical_Facilities`, Number_of_Casualties, COUNT(Number_of_Casualties) as Jumlah \\\n",
    "                    FROM accidents \\\n",
    "                    GROUP BY `Pedestrian_Crossing-Physical_Facilities`, Number_of_Casualties \\\n",
    "                    ORDER BY Number_of_Casualties ASC\")"
   ]
  },
  {
   "cell_type": "code",
   "execution_count": 20,
   "metadata": {},
   "outputs": [
    {
     "name": "stdout",
     "output_type": "stream",
     "text": [
      "+---------------------------------------+--------------------+------+\n",
      "|Pedestrian_Crossing-Physical_Facilities|Number_of_Casualties|Jumlah|\n",
      "+---------------------------------------+--------------------+------+\n",
      "|                   No physical cross...|                   1|290019|\n",
      "|                         Central refuge|                   1|  8381|\n",
      "|                         Zebra crossing|                   1| 12111|\n",
      "|                   non-junction pede...|                   1| 22072|\n",
      "|                   Pedestrian phase ...|                   1| 27885|\n",
      "|                   Footbridge or subway|                   1|  1158|\n",
      "|                         Zebra crossing|                   2|  1418|\n",
      "|                   Footbridge or subway|                   2|   231|\n",
      "|                         Central refuge|                   2|  1430|\n",
      "|                   No physical cross...|                   2| 59571|\n",
      "|                   non-junction pede...|                   2|  3203|\n",
      "|                   Pedestrian phase ...|                   2|  5091|\n",
      "|                   Pedestrian phase ...|                   3|  1366|\n",
      "|                         Central refuge|                   3|   359|\n",
      "|                   non-junction pede...|                   3|   785|\n",
      "|                   No physical cross...|                   3| 17479|\n",
      "|                         Zebra crossing|                   3|   321|\n",
      "|                   Footbridge or subway|                   3|    69|\n",
      "|                         Central refuge|                   4|   123|\n",
      "|                   non-junction pede...|                   4|   331|\n",
      "+---------------------------------------+--------------------+------+\n",
      "only showing top 20 rows\n",
      "\n"
     ]
    }
   ],
   "source": [
    "query5.show()"
   ]
  },
  {
   "cell_type": "code",
   "execution_count": 23,
   "metadata": {},
   "outputs": [],
   "source": [
    "# 6. Jumlah kondisi spesial yang terjadi\n",
    "\n",
    "query6 = spark.sql(\"SELECT Special_Conditions_at_Site, COUNT(Special_Conditions_at_Site) as Jumlah \\\n",
    "                    FROM accidents \\\n",
    "                    GROUP BY Special_Conditions_at_Site \\\n",
    "                    ORDER BY Jumlah DESC\")"
   ]
  },
  {
   "cell_type": "code",
   "execution_count": 24,
   "metadata": {},
   "outputs": [
    {
     "name": "stdout",
     "output_type": "stream",
     "text": [
      "+--------------------------+------+\n",
      "|Special_Conditions_at_Site|Jumlah|\n",
      "+--------------------------+------+\n",
      "|                      None|454385|\n",
      "|                 Roadworks|  4742|\n",
      "|                       Mud|  1413|\n",
      "|              Ol or diesel|  1406|\n",
      "|      Road surface defe...|  1144|\n",
      "|      Auto traffic sing...|   758|\n",
      "|      Permanent sign or...|   625|\n",
      "|      Auto traffic sign...|   222|\n",
      "|                      null|     0|\n",
      "+--------------------------+------+\n",
      "\n"
     ]
    }
   ],
   "source": [
    "query6.show()"
   ]
  },
  {
   "cell_type": "code",
   "execution_count": null,
   "metadata": {},
   "outputs": [],
   "source": []
  }
 ],
 "metadata": {
  "kernelspec": {
   "display_name": "Python 3",
   "language": "python",
   "name": "python3"
  },
  "language_info": {
   "codemirror_mode": {
    "name": "ipython",
    "version": 3
   },
   "file_extension": ".py",
   "mimetype": "text/x-python",
   "name": "python",
   "nbconvert_exporter": "python",
   "pygments_lexer": "ipython3",
   "version": "3.6.4"
  }
 },
 "nbformat": 4,
 "nbformat_minor": 2
}
